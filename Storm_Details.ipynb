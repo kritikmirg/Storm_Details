{
 "cells": [
  {
   "cell_type": "code",
   "execution_count": 1,
   "metadata": {},
   "outputs": [],
   "source": [
    "#Code by: Theodore Gaidis, Mark Bailey, Kritik Mirg"
   ]
  },
  {
   "cell_type": "code",
   "execution_count": 2,
   "metadata": {},
   "outputs": [],
   "source": [
    "#run all modules before produce details module\n",
    "#produce details function creates a map in a new browser tab, as well as graphs in this notebook.\n",
    "#the graphs that analyze the entire date range take a long time, espesecially if you input USA"
   ]
  },
  {
   "cell_type": "code",
   "execution_count": 3,
   "metadata": {},
   "outputs": [],
   "source": [
    "#import necessary python packages\n",
    "#geocoder and folium not included with python, you may have to install for map to generate"
   ]
  },
  {
   "cell_type": "code",
   "execution_count": 4,
   "metadata": {},
   "outputs": [],
   "source": [
    "import urllib\n",
    "import gzip\n",
    "import os\n",
    "import glob\n",
    "import json\n",
    "import pandas as pd\n",
    "import matplotlib.pyplot as plt\n",
    "%matplotlib inline\n",
    "import numpy as np\n",
    "from map_visuals import map_visualization_state"
   ]
  },
  {
   "cell_type": "code",
   "execution_count": 5,
   "metadata": {},
   "outputs": [],
   "source": [
    "#gather 2008-2018 Data, specify by year\n",
    "#try/accept for local file paths vs directly from NCDC storm events database\n",
    "#function to grab data from NCDC database"
   ]
  },
  {
   "cell_type": "code",
   "execution_count": 6,
   "metadata": {},
   "outputs": [],
   "source": [
    "#All Storm Details\n",
    "#try/except for local path\n",
    "DOWNLOAD_ROOT = \"https://www1.ncdc.noaa.gov/pub/data/swdi/stormevents/csvfiles/\"\n",
    "\n",
    "def fetch_storm_data(storm_url):\n",
    "    urllib.request.urlretrieve(storm_url)\n",
    "    return pd.read_csv(storm_url)\n",
    "\n",
    "try:\n",
    "    storm_details_2008 = pd.read_csv('StormEvents_details-ftp_v1.0_d2008_c20180718.csv.gz')\n",
    "    storm_details_2009 = pd.read_csv('StormEvents_details-ftp_v1.0_d2009_c20180718.csv.gz')\n",
    "    storm_details_2010 = pd.read_csv('StormEvents_details-ftp_v1.0_d2010_c20191116.csv.gz')\n",
    "    storm_details_2011 = pd.read_csv('StormEvents_details-ftp_v1.0_d2011_c20180718.csv.gz')\n",
    "    storm_details_2012 = pd.read_csv('StormEvents_details-ftp_v1.0_d2012_c20190516.csv.gz')\n",
    "    storm_details_2013 = pd.read_csv('StormEvents_details-ftp_v1.0_d2013_c20170519.csv.gz')\n",
    "    storm_details_2014 = pd.read_csv('StormEvents_details-ftp_v1.0_d2014_c20191116.csv.gz')\n",
    "    storm_details_2015 = pd.read_csv('StormEvents_details-ftp_v1.0_d2015_c20191116.csv.gz')\n",
    "    storm_details_2016 = pd.read_csv('StormEvents_details-ftp_v1.0_d2016_c20190817.csv.gz')\n",
    "    storm_details_2017 = pd.read_csv('StormEvents_details-ftp_v1.0_d2017_c20190817.csv.gz')\n",
    "    storm_details_2018 = pd.read_csv('StormEvents_details-ftp_v1.0_d2018_c20191116.csv.gz')\n",
    "    \n",
    "except:\n",
    "    print(\"Could not recieve data from local files.  Accessing NCDC Database\")\n",
    "    storm_details_2008 = fetch_storm_data(DOWNLOAD_ROOT + 'StormEvents_details-ftp_v1.0_d2008_c20180718.csv.gz')\n",
    "    storm_details_2009 = fetch_storm_data(DOWNLOAD_ROOT + 'StormEvents_details-ftp_v1.0_d2009_c20180718.csv.gz')\n",
    "    storm_details_2010 = fetch_storm_data(DOWNLOAD_ROOT + 'StormEvents_details-ftp_v1.0_d2010_c20191116.csv.gz')\n",
    "    storm_details_2011 = fetch_storm_data(DOWNLOAD_ROOT + 'StormEvents_details-ftp_v1.0_d2011_c20180718.csv.gz')\n",
    "    storm_details_2012 = fetch_storm_data(DOWNLOAD_ROOT + 'StormEvents_details-ftp_v1.0_d2012_c20190516.csv.gz')\n",
    "    storm_details_2013 = fetch_storm_data(DOWNLOAD_ROOT + 'StormEvents_details-ftp_v1.0_d2013_c20170519.csv.gz')\n",
    "    storm_details_2014 = fetch_storm_data(DOWNLOAD_ROOT + 'StormEvents_details-ftp_v1.0_d2014_c20191116.csv.gz')\n",
    "    storm_details_2015 = fetch_storm_data(DOWNLOAD_ROOT + 'StormEvents_details-ftp_v1.0_d2015_c20191116.csv.gz')\n",
    "    storm_details_2016 = fetch_storm_data(DOWNLOAD_ROOT + 'StormEvents_details-ftp_v1.0_d2016_c20190817.csv.gz')\n",
    "    storm_details_2017 = fetch_storm_data(DOWNLOAD_ROOT + 'StormEvents_details-ftp_v1.0_d2017_c20190817.csv.gz')\n",
    "    storm_details_2018 = fetch_storm_data(DOWNLOAD_ROOT + 'StormEvents_details-ftp_v1.0_d2018_c20191116.csv.gz')"
   ]
  },
  {
   "cell_type": "code",
   "execution_count": 7,
   "metadata": {},
   "outputs": [],
   "source": [
    "#combine 2008-2018 into one data set to be filtered by year and state\n",
    "#easier to filter combined data set by year"
   ]
  },
  {
   "cell_type": "code",
   "execution_count": 8,
   "metadata": {},
   "outputs": [],
   "source": [
    "#sort storm details by date\n",
    "#2008\n",
    "storm_details_2008 = storm_details_2008.sort_values(['BEGIN_YEARMONTH','BEGIN_DAY'])\n",
    "#2009\n",
    "storm_details_2009 = storm_details_2009.sort_values(['BEGIN_YEARMONTH','BEGIN_DAY'])\n",
    "#2010\n",
    "storm_details_2010 = storm_details_2010.sort_values(['BEGIN_YEARMONTH','BEGIN_DAY'])\n",
    "#2011\n",
    "storm_details_2011 = storm_details_2011.sort_values(['BEGIN_YEARMONTH','BEGIN_DAY'])\n",
    "#2012\n",
    "storm_details_2012 = storm_details_2012.sort_values(['BEGIN_YEARMONTH','BEGIN_DAY'])\n",
    "#2013\n",
    "storm_details_2013 = storm_details_2013.sort_values(['BEGIN_YEARMONTH','BEGIN_DAY'])\n",
    "#2014\n",
    "storm_details_2014 = storm_details_2014.sort_values(['BEGIN_YEARMONTH','BEGIN_DAY'])\n",
    "#2015\n",
    "storm_details_2015 = storm_details_2015.sort_values(['BEGIN_YEARMONTH','BEGIN_DAY'])\n",
    "#2016\n",
    "storm_details_2016 = storm_details_2016.sort_values(['BEGIN_YEARMONTH','BEGIN_DAY'])\n",
    "#2017\n",
    "storm_details_2017 = storm_details_2017.sort_values(['BEGIN_YEARMONTH','BEGIN_DAY'])\n",
    "#2018\n",
    "storm_details_2018 = storm_details_2018.sort_values(['BEGIN_YEARMONTH','BEGIN_DAY'])"
   ]
  },
  {
   "cell_type": "code",
   "execution_count": 9,
   "metadata": {},
   "outputs": [],
   "source": [
    "#combine into one dataframe\n",
    "def combined_storm_details(storm_details_2008, storm_details_2009, storm_details_2010, storm_details_2011, storm_details_2012, storm_details_2013, storm_details_2014, storm_details_2015, storm_details_2016, storm_details_2017, storm_details_2018):\n",
    "    combined_details = pd.concat([storm_details_2008, storm_details_2009, storm_details_2010, storm_details_2011, storm_details_2012, storm_details_2013, storm_details_2014, storm_details_2015, storm_details_2016, storm_details_2017, storm_details_2018])\n",
    "    return combined_details.drop_duplicates()\n",
    "\n",
    "comb_D = combined_storm_details(storm_details_2008, storm_details_2009, storm_details_2010, storm_details_2011, storm_details_2012, storm_details_2013, storm_details_2014, storm_details_2015, storm_details_2016, storm_details_2017, storm_details_2018)"
   ]
  },
  {
   "cell_type": "code",
   "execution_count": 10,
   "metadata": {},
   "outputs": [],
   "source": [
    "#code below produces graph of yearly injuries"
   ]
  },
  {
   "cell_type": "code",
   "execution_count": 13,
   "metadata": {},
   "outputs": [],
   "source": [
    "def weather_year(df, state, year):\n",
    "    event_dic = {}\n",
    "    event_list = []\n",
    "    for line in df['EVENT_TYPE']: #Iterating throug specific row\n",
    "        if line not in event_list:\n",
    "            event_list.append(line) #Making sure there are no duplicated\n",
    "            event_dic[line] = 0\n",
    "        \n",
    "    for line in df['EVENT_TYPE']:\n",
    "        if line in event_dic:\n",
    "            event_dic[line] += 1 #Adding one for each occurence\n",
    "        \n",
    "    event_dic = sorted(event_dic.items(), key = lambda kv:(kv[1], kv[0]))  #Sorted dicitonary by value\n",
    "\n",
    "    occur = []\n",
    "    types = []\n",
    "    for key in list(reversed(list(event_dic)))[0:10]: #iterating through reversed list to get top 10\n",
    "        types.append(key[0])\n",
    "        occur.append(key[1])\n",
    "\n",
    "    bars = types\n",
    "    height = occur\n",
    "\n",
    "    #Creating bar graph \n",
    "        \n",
    "    plt.barh(bars, height)\n",
    "    plt.title('Top 10 Weather Types in ' + state + \" \" + str(year))\n",
    "    plt.xlabel('Occurences')\n",
    "    plt.ylabel('Event Types')\n",
    "\n",
    "    plt.show()\n",
    "    \n",
    "#weather_year(combined_details)"
   ]
  },
  {
   "cell_type": "code",
   "execution_count": 14,
   "metadata": {},
   "outputs": [],
   "source": [
    "#death details per state for given year below"
   ]
  },
  {
   "cell_type": "code",
   "execution_count": 15,
   "metadata": {},
   "outputs": [],
   "source": [
    "def year_death(df, year):\n",
    "    death_details = df[[\"STATE\", \"DEATHS_INDIRECT\", \"DEATHS_DIRECT\"]] #Getting dataframe for only these rows\n",
    "\n",
    "    death_states_list = []\n",
    "    death_dict = {}\n",
    "    for index, row in death_details.iterrows(): #Iterating through dataframe\n",
    "        if row['STATE'] not in death_states_list: #Making sure there are no duplicates\n",
    "            death_states_list.append(row['STATE'])\n",
    "            death_dict[row['STATE']] = 0\n",
    "\n",
    "\n",
    "    for index, row in death_details.iterrows():\n",
    "        total = row['DEATHS_INDIRECT'] + row['DEATHS_DIRECT'] #Adding values of two rows\n",
    "        death_dict[row['STATE']] += total #Setting dictionary key to values of total deaths\n",
    "\n",
    "        death_dict_sorted = sorted(death_dict.items(), key =   #Sorted dicitonary by value\n",
    "             lambda kv:(kv[1], kv[0]))\n",
    "\n",
    "    deaths = []\n",
    "    death_states = []\n",
    "    for key in list(reversed(list(death_dict_sorted)))[0:10]:    #iterating through reversed list to get top 10\n",
    "        death_states.append(key[0])\n",
    "        deaths.append(key[1])\n",
    "\n",
    "    bars = death_states\n",
    "    height = deaths\n",
    "    \n",
    "     #Creating bar graph \n",
    "\n",
    "    plt.barh(bars, height)\n",
    "    plt.title('Deaths by Weather by State in ' + str(year))\n",
    "    plt.xlabel('Number of Deaths')\n",
    "    plt.ylabel('State')\n",
    "\n",
    "    plt.show()\n",
    "    \n",
    "#year_death(combined_details)"
   ]
  },
  {
   "cell_type": "code",
   "execution_count": 16,
   "metadata": {},
   "outputs": [],
   "source": [
    "#injuries over time in selected state (or USA) (all years)"
   ]
  },
  {
   "cell_type": "code",
   "execution_count": 17,
   "metadata": {},
   "outputs": [],
   "source": [
    "def injuries_overTime(df, state_1):\n",
    "\n",
    "    injury_details_year = df[[\"YEAR\", \"INJURIES_INDIRECT\", \"INJURIES_DIRECT\"]] #Getting dataframe for only these rows\n",
    "\n",
    "    year_list = []\n",
    "    year_injury_dict = {}\n",
    "    for index, row in injury_details_year.iterrows(): #Iterating through dataframe\n",
    "        if row['YEAR'] not in year_list:  #Making sure there are no duplicates\n",
    "            year_list.append(row['YEAR'])\n",
    "            year_injury_dict[row['YEAR']] = 0\n",
    "\n",
    "\n",
    "    for index, row in injury_details_year.iterrows():\n",
    "        total = row['INJURIES_INDIRECT'] + row['INJURIES_DIRECT'] #Adding values of two rows\n",
    "        year_injury_dict[row['YEAR']] += total  #Setting dictionary key to values of total deaths\n",
    "        \n",
    "    injuries_total = []\n",
    "    for key in year_injury_dict:\n",
    "        injuries_total.append(year_injury_dict[key]) #Appending list with keys of dictionary \n",
    "\n",
    "        #Creating bar graph \n",
    "    plt.plot(year_list,injuries_total)\n",
    "    plt.title('Injuries by Weather Over Time in ' + state_1)\n",
    "    plt.xlabel('Years')\n",
    "    plt.ylabel('Number of Injuries')\n",
    "\n",
    "    plt.show()"
   ]
  },
  {
   "cell_type": "code",
   "execution_count": 18,
   "metadata": {},
   "outputs": [],
   "source": [
    "#death over time in selected state(or USA)"
   ]
  },
  {
   "cell_type": "code",
   "execution_count": 19,
   "metadata": {},
   "outputs": [],
   "source": [
    "def death_overTime(df, state_1):\n",
    "\n",
    "    death_details_year = df[[\"YEAR\", \"DEATHS_INDIRECT\", \"DEATHS_DIRECT\"]] #Getting dataframe for only these rows\n",
    "\n",
    "    year_death_states_list = []\n",
    "    year_death_dict = {}\n",
    "    for index, row in death_details_year.iterrows():  #Iterating through dataframe\n",
    "        if row['YEAR'] not in year_death_states_list: #Making sure there are no duplicates\n",
    "            year_death_states_list.append(row['YEAR'])\n",
    "            year_death_dict[row['YEAR']] = 0\n",
    "\n",
    "\n",
    "    for index, row in death_details_year.iterrows():\n",
    "        total = row['DEATHS_INDIRECT'] + row['DEATHS_DIRECT'] #Adding values of two rows\n",
    "        year_death_dict[row['YEAR']] += total #Setting dictionary key to values of total deaths for certain year\n",
    "\n",
    "    death_total = []\n",
    "    for key in year_death_dict:\n",
    "        death_total.append(year_death_dict[key])  #Appending list with keys of dictionary \n",
    "\n",
    "         #Creating bar graph \n",
    "\n",
    "    plt.plot(year_death_states_list,death_total)\n",
    "    plt.title('Death by Weather Over Time in ' + state_1)\n",
    "    plt.xlabel('Years')\n",
    "    plt.ylabel('Number of Death')\n",
    "\n",
    "    plt.show()"
   ]
  },
  {
   "cell_type": "code",
   "execution_count": 20,
   "metadata": {},
   "outputs": [],
   "source": [
    "#show death details"
   ]
  },
  {
   "cell_type": "code",
   "execution_count": 21,
   "metadata": {},
   "outputs": [],
   "source": [
    "def state_year_details(year, state_1):\n",
    "    state_detail = state_1.upper() #Making states paramter upper case to match dataframe\n",
    "    \n",
    "    year_detail = year\n",
    "    \n",
    "    death_details_year_state = comb_D[[\"STATE\",\"YEAR\", \"DEATHS_INDIRECT\", \"DEATHS_DIRECT\"]] #Getting dataframe for only these rows\n",
    "    total_deaths = 0\n",
    "    for index, row in death_details_year_state.iterrows():\n",
    "        if row['YEAR'] == year_detail and row['STATE'] == state_detail: #Finding row that matches both parameters\n",
    "            total_deaths += row['DEATHS_INDIRECT'] + row['DEATHS_DIRECT'] #Adding values of two rows\n",
    "            \n",
    "    injury_details_year_state = comb_D[[\"STATE\",\"YEAR\", \"INJURIES_INDIRECT\", \"INJURIES_DIRECT\"]] #Getting dataframe for only these rows\n",
    "    total_injuries = 0\n",
    "    for index, row in injury_details_year_state.iterrows():\n",
    "        if row['YEAR'] == year_detail and row['STATE'] == state_detail: #Finding row that matches both parameters\n",
    "            total_injuries += row['INJURIES_INDIRECT'] + row['INJURIES_DIRECT'] #Adding values of two rows\n",
    "          \n",
    "    print(\"The state of \" + state_detail + \" in the year of \" + str(year_detail) + \" had \" + str(total_deaths) + \" deaths and \" + str(total_injuries) + \" injuries due to weather events.\")\n",
    "    \n"
   ]
  },
  {
   "cell_type": "code",
   "execution_count": 22,
   "metadata": {},
   "outputs": [],
   "source": [
    "#Run function below to produce a map and details about the state and year choosen"
   ]
  },
  {
   "cell_type": "code",
   "execution_count": 26,
   "metadata": {},
   "outputs": [],
   "source": [
    "def produce_details(comb_D):\n",
    "    \n",
    "    year = int(input(\"enter a year 2008-2018: \"))\n",
    "    L_year = comb_D[(comb_D['YEAR'] == year)].dropna(subset=['BEGIN_LAT', 'BEGIN_LON'])\n",
    "    state_1 = input(\"Enter the state you would like to view (or usa for entire usa) \").upper()\n",
    "    state_overTime = comb_D[(comb_D['STATE'] == state_1)]\n",
    "    \n",
    "    #Calling functions defined above to get corresponding data\n",
    "    if state_1 == 'USA': #If user enters USA\n",
    "        map_visualization_state(L_year.head(3000),'USA')\n",
    "        weather_year(L_year, state_1, year)\n",
    "        year_death(L_year, year)\n",
    "        injuries_overTime(comb_D, state_1)\n",
    "        death_overTime(comb_D, state_1)\n",
    "        \n",
    "        \n",
    "    else:\n",
    "        state_all_Details = L_year[(L_year['STATE'] == state_1)]\n",
    "        map_visualization_state(state_all_Details.head(3000),state_1)\n",
    "        weather_year(state_all_Details, state_1, year)\n",
    "        injuries_overTime(state_overTime, state_1)\n",
    "        death_overTime(state_overTime, state_1)\n",
    "        state_year_details(year, state_1)\n"
   ]
  },
  {
   "cell_type": "code",
   "execution_count": 31,
   "metadata": {},
   "outputs": [
    {
     "name": "stdout",
     "output_type": "stream",
     "text": [
      "enter a year 2008-2018: 2011\n",
      "Enter the state you would like to view (or usa for entire usa) Texas\n"
     ]
    },
    {
     "data": {
      "image/png": "[encoded data removed]",
      "text/plain": [
       "<Figure size 432x288 with 1 Axes>"
      ]
     },
     "metadata": {
      "needs_background": "light"
     },
     "output_type": "display_data"
    },
    {
     "data": {
      "image/png": "[encoded data removed]",
      "text/plain": [
       "<Figure size 432x288 with 1 Axes>"
      ]
     },
     "metadata": {
      "needs_background": "light"
     },
     "output_type": "display_data"
    },
    {
     "data": {
      "image/png": "[encoded data removed]",
      "text/plain": [
       "<Figure size 432x288 with 1 Axes>"
      ]
     },
     "metadata": {
      "needs_background": "light"
     },
     "output_type": "display_data"
    },
    {
     "name": "stdout",
     "output_type": "stream",
     "text": [
      "The state of TEXAS in the year of 2011 had 101 deaths and 1068 injuries due to weather events.\n"
     ]
    }
   ],
   "source": [
    "produce_details(comb_D) #Run this cell to start program"
   ]
  },
  {
   "cell_type": "code",
   "execution_count": null,
   "metadata": {},
   "outputs": [],
   "source": []
  }
 ],
 "metadata": {
  "kernelspec": {
   "display_name": "Python 3",
   "language": "python",
   "name": "python3"
  },
  "language_info": {
   "codemirror_mode": {
    "name": "ipython",
    "version": 3
   },
   "file_extension": ".py",
   "mimetype": "text/x-python",
   "name": "python",
   "nbconvert_exporter": "python",
   "pygments_lexer": "ipython3",
   "version": "3.7.3"
  }
 },
 "nbformat": 4,
 "nbformat_minor": 2
}
